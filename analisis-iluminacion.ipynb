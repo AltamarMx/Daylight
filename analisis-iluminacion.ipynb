{
 "cells": [
  {
   "cell_type": "code",
   "execution_count": 1,
   "metadata": {},
   "outputs": [],
   "source": [
    "from modulos import illumination as ill"
   ]
  },
  {
   "cell_type": "code",
   "execution_count": 2,
   "metadata": {},
   "outputs": [
    {
     "name": "stdout",
     "output_type": "stream",
     "text": [
      "nx: 10\n",
      "ny: 10\n",
      "Lx: 2.60 [m]\n",
      "Ly: 10.94 [m]\n",
      "dx: 0.26 [m]\n",
      "dy: 1.09 [m]\n"
     ]
    }
   ],
   "source": [
    "a = ill.daylight('data/Space_101_map.ill')"
   ]
  },
  {
   "cell_type": "code",
   "execution_count": 3,
   "metadata": {},
   "outputs": [
    {
     "name": "stdout",
     "output_type": "stream",
     "text": [
      "\n",
      "    Class to read ILL files from a Radiance Simulation, calculate and render UDIs, illuminance maps and others.\n",
      "\n",
      "    Use:\n",
      "    a = ill.daylight(arg1)\n",
      "\n",
      "    Parameters\n",
      "    ----------\n",
      "    arg1 : path of the ILL file to load into a DataFrame.\n",
      "    arg1 = 'data/CEEA.ill'\n",
      "    Returns\n",
      "    nx: number of elements in the x direction of the grid\n",
      "    ny: number of elements in the y direction of the grid\n",
      "    Lx: Lenght in the x direction of the grid\n",
      "    Ly: Lenght in the y direction of the grid\n",
      "    dx: Size of the grid in the x direction\n",
      "    dy: Size of the grid in the y direction\n",
      "    -------\n",
      "    The class contains the following methods:\n",
      "    \n",
      "    udi()\n",
      "        Calculate the UDI [https://patternguide.advancedbuildings.net/using-this-guide/analysis-methods/useful-daylight-illuminance]\n",
      "        defining the following parameters:\n",
      "        E_LL:  Lower limit illumination level [lx]\n",
      "        E_UL:  Upper limit illumination level [lx]\n",
      "        t_min: Start hour of day to evaluate the UDI [h]\n",
      "        t_http://localhost:8891/edit/modulos/illumination.py#max: End hout of day to evaluate the UDI [h]\n",
      "        dC:    Number of color leves for the UDI [-]\n",
      "        Once executed, prints the frequency of visual comfort (FVC).\n",
      "        \n",
      "    map()\n",
      "        Plot the illuminance map for the space for a specific day, time and renders using a maximum value of the illuminance:\n",
      "        day:  day to plot the illuminance map [-]\n",
      "        hour: Time of day (0,24) to plot the illuminance map [h]\n",
      "        Lmax: Maximum value to render illuminance map [lx]\n",
      "    \n",
      "    x()\n",
      "        Plot the illuminance along the x direction at a specific value of y:\n",
      "        day:  day to plot the illuminance along the x direction [-]\n",
      "        hour: Time of day (0,24) to plot the illuminance along the x direction [h]\n",
      "        jj:   Number of element (0,Ly) to plot the illuminance along the x direcion [-]\n",
      "        \n",
      "    \n",
      "    y()\n",
      "        Plot the illuminance along the y direction at a specific value of x:\n",
      "        day:  day to plot the illuminance along the x direction [-]\n",
      "        hour: Time of day (0,24) to plot the illuminance along the y direction [h]\n",
      "        ii:   Number of element (0,Lx) to plot the illuminance along the y direcion [-]\n",
      "\n",
      "    \n"
     ]
    }
   ],
   "source": [
    "print(a.__doc__)"
   ]
  },
  {
   "cell_type": "code",
   "execution_count": 4,
   "metadata": {},
   "outputs": [
    {
     "data": {
      "application/vnd.jupyter.widget-view+json": {
       "model_id": "52f62aff9dc24d60bc05b6497678b064",
       "version_major": 2,
       "version_minor": 0
      },
      "text/html": [
       "<p>Failed to display Jupyter Widget of type <code>interactive</code>.</p>\n",
       "<p>\n",
       "  If you're reading this message in Jupyter Notebook or JupyterLab, it may mean\n",
       "  that the widgets JavaScript is still loading. If this message persists, it\n",
       "  likely means that the widgets JavaScript library is either not installed or\n",
       "  not enabled. See the <a href=\"https://ipywidgets.readthedocs.io/en/stable/user_install.html\">Jupyter\n",
       "  Widgets Documentation</a> for setup instructions.\n",
       "</p>\n",
       "<p>\n",
       "  If you're reading this message in another notebook frontend (for example, a static\n",
       "  rendering on GitHub or <a href=\"https://nbviewer.jupyter.org/\">NBViewer</a>),\n",
       "  it may mean that your frontend doesn't currently support widgets.\n",
       "</p>\n"
      ],
      "text/plain": [
       "interactive(children=(IntSlider(value=300, description='E_LL', max=1000, min=50, step=50), IntSlider(value=1500, description='E_UL', max=2500, min=500, step=50), IntSlider(value=8, description='t_min', max=12, min=6), IntSlider(value=18, description='t_max', max=20, min=12), IntSlider(value=5, description='dC', max=50, min=5, step=5), Button(description='Run Interact', style=ButtonStyle()), Output()), _dom_classes=('widget-interact',))"
      ]
     },
     "metadata": {},
     "output_type": "display_data"
    }
   ],
   "source": [
    "a.udi()"
   ]
  },
  {
   "cell_type": "code",
   "execution_count": 7,
   "metadata": {},
   "outputs": [
    {
     "data": {
      "application/vnd.jupyter.widget-view+json": {
       "model_id": "f06d2df3aac84311b20ed82d9451a586",
       "version_major": 2,
       "version_minor": 0
      },
      "text/html": [
       "<p>Failed to display Jupyter Widget of type <code>interactive</code>.</p>\n",
       "<p>\n",
       "  If you're reading this message in Jupyter Notebook or JupyterLab, it may mean\n",
       "  that the widgets JavaScript is still loading. If this message persists, it\n",
       "  likely means that the widgets JavaScript library is either not installed or\n",
       "  not enabled. See the <a href=\"https://ipywidgets.readthedocs.io/en/stable/user_install.html\">Jupyter\n",
       "  Widgets Documentation</a> for setup instructions.\n",
       "</p>\n",
       "<p>\n",
       "  If you're reading this message in another notebook frontend (for example, a static\n",
       "  rendering on GitHub or <a href=\"https://nbviewer.jupyter.org/\">NBViewer</a>),\n",
       "  it may mean that your frontend doesn't currently support widgets.\n",
       "</p>\n"
      ],
      "text/plain": [
       "interactive(children=(IntSlider(value=180, description='dia', max=365, min=1), IntSlider(value=12, description='hora', max=20, min=6), IntSlider(value=5000, description='Lmax', max=35000, step=100), Button(description='Run Interact', style=ButtonStyle()), Output()), _dom_classes=('widget-interact',))"
      ]
     },
     "metadata": {},
     "output_type": "display_data"
    }
   ],
   "source": [
    "a.map()"
   ]
  },
  {
   "cell_type": "code",
   "execution_count": 5,
   "metadata": {},
   "outputs": [
    {
     "data": {
      "application/vnd.jupyter.widget-view+json": {
       "model_id": "08de8c9dd4204aadb170eea8e531b08d",
       "version_major": 2,
       "version_minor": 0
      },
      "text/html": [
       "<p>Failed to display Jupyter Widget of type <code>interactive</code>.</p>\n",
       "<p>\n",
       "  If you're reading this message in Jupyter Notebook or JupyterLab, it may mean\n",
       "  that the widgets JavaScript is still loading. If this message persists, it\n",
       "  likely means that the widgets JavaScript library is either not installed or\n",
       "  not enabled. See the <a href=\"https://ipywidgets.readthedocs.io/en/stable/user_install.html\">Jupyter\n",
       "  Widgets Documentation</a> for setup instructions.\n",
       "</p>\n",
       "<p>\n",
       "  If you're reading this message in another notebook frontend (for example, a static\n",
       "  rendering on GitHub or <a href=\"https://nbviewer.jupyter.org/\">NBViewer</a>),\n",
       "  it may mean that your frontend doesn't currently support widgets.\n",
       "</p>\n"
      ],
      "text/plain": [
       "interactive(children=(IntSlider(value=180, description='day', max=365, min=1), IntSlider(value=12, description='hour', max=23), IntSlider(value=0, description='jj', max=9), Button(description='Run Interact', style=ButtonStyle()), Output()), _dom_classes=('widget-interact',))"
      ]
     },
     "metadata": {},
     "output_type": "display_data"
    }
   ],
   "source": [
    "a.x()"
   ]
  },
  {
   "cell_type": "code",
   "execution_count": 6,
   "metadata": {},
   "outputs": [
    {
     "data": {
      "application/vnd.jupyter.widget-view+json": {
       "model_id": "96c0ba77048c41f6baa557adaea07bcf",
       "version_major": 2,
       "version_minor": 0
      },
      "text/html": [
       "<p>Failed to display Jupyter Widget of type <code>interactive</code>.</p>\n",
       "<p>\n",
       "  If you're reading this message in Jupyter Notebook or JupyterLab, it may mean\n",
       "  that the widgets JavaScript is still loading. If this message persists, it\n",
       "  likely means that the widgets JavaScript library is either not installed or\n",
       "  not enabled. See the <a href=\"https://ipywidgets.readthedocs.io/en/stable/user_install.html\">Jupyter\n",
       "  Widgets Documentation</a> for setup instructions.\n",
       "</p>\n",
       "<p>\n",
       "  If you're reading this message in another notebook frontend (for example, a static\n",
       "  rendering on GitHub or <a href=\"https://nbviewer.jupyter.org/\">NBViewer</a>),\n",
       "  it may mean that your frontend doesn't currently support widgets.\n",
       "</p>\n"
      ],
      "text/plain": [
       "interactive(children=(IntSlider(value=180, description='day', max=365, min=1), IntSlider(value=12, description='hour', max=23), IntSlider(value=0, description='ii', max=9), Button(description='Run Interact', style=ButtonStyle()), Output()), _dom_classes=('widget-interact',))"
      ]
     },
     "metadata": {},
     "output_type": "display_data"
    }
   ],
   "source": [
    "a.y()"
   ]
  }
 ],
 "metadata": {
  "kernelspec": {
   "display_name": "Python 3",
   "language": "python",
   "name": "python3"
  },
  "language_info": {
   "codemirror_mode": {
    "name": "ipython",
    "version": 3
   },
   "file_extension": ".py",
   "mimetype": "text/x-python",
   "name": "python",
   "nbconvert_exporter": "python",
   "pygments_lexer": "ipython3",
   "version": "3.5.3"
  },
  "widgets": {
   "state": {
    "094d78170329416ea03a74518cb640f3": {
     "views": [
      {
       "cell_index": 5
      }
     ]
    },
    "84d026d248534634956602550924cdf2": {
     "views": [
      {
       "cell_index": 2
      }
     ]
    },
    "a0ab017cb5a34d1483af78e689bcf4d9": {
     "views": [
      {
       "cell_index": 4
      }
     ]
    },
    "a1465ab574544bec82e949566be03cd8": {
     "views": [
      {
       "cell_index": 3
      }
     ]
    }
   },
   "version": "1.2.0"
  }
 },
 "nbformat": 4,
 "nbformat_minor": 2
}
